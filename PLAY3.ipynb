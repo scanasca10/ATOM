# To add a new cell, type '# %%'
# To add a new markdown cell, type '# %% [markdown]'
# %%
from IPython import get_ipython

# %%
import pandas as pd
import json
import requests
import datetime
import calendar

