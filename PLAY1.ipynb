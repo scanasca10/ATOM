{
 "metadata": {
  "language_info": {
   "codemirror_mode": {
    "name": "ipython",
    "version": 3
   },
   "file_extension": ".py",
   "mimetype": "text/x-python",
   "name": "python",
   "nbconvert_exporter": "python",
   "pygments_lexer": "ipython3",
   "version": "3.7.6"
  },
  "orig_nbformat": 2,
  "kernelspec": {
   "name": "python376jvsc74a57bd0ae2e79052d9395c49b74f8dc54800526322d4dd7468d07d58500febce420b425",
   "display_name": "Python 3.7.6 64-bit ('base': conda)"
  }
 },
 "nbformat": 4,
 "nbformat_minor": 2,
 "cells": [
  {
   "cell_type": "code",
   "execution_count": 145,
   "metadata": {},
   "outputs": [],
   "source": [
    "import pandas as pd\n",
    "import json\n",
    "import requests"
   ]
  },
  {
   "cell_type": "code",
   "execution_count": 146,
   "metadata": {},
   "outputs": [],
   "source": [
    "coins = requests.get('https://api.coincap.io/v2/assets')\n",
    "coins = json.loads(coins.text)\n",
    "coins_df = pd.json_normalize(coins['data'])"
   ]
  },
  {
   "cell_type": "code",
   "execution_count": 147,
   "metadata": {},
   "outputs": [
    {
     "output_type": "execute_result",
     "data": {
      "text/plain": [
       "         id rank symbol      name                        supply  \\\n",
       "0   bitcoin    1    BTC   Bitcoin     18713700.0000000000000000   \n",
       "1  ethereum    2    ETH  Ethereum    115994703.3740000000000000   \n",
       "2    tether    3   USDT    Tether  59434391387.3616900000000000   \n",
       "\n",
       "                   maxSupply                   marketCapUsd  \\\n",
       "0  21000000.0000000000000000  629779699843.8617671043000400   \n",
       "1                       None  239736744575.9839181956173070   \n",
       "2                       None   59591670522.3983930865422654   \n",
       "\n",
       "                  volumeUsd24Hr                priceUsd     changePercent24Hr  \\\n",
       "0  41293916727.1138300685452836  33653.4036478014378292  -11.6194784669449791   \n",
       "1  33369330253.0347576222931268   2066.7904447585360157  -12.1439495830077058   \n",
       "2  92891310076.1056181167268930      1.0026462647528708    0.1144642430063998   \n",
       "\n",
       "                 vwap24Hr                                explorer  \n",
       "0  35336.5606361656955296                https://blockchain.info/  \n",
       "1   2115.4351847714694576                   https://etherscan.io/  \n",
       "2      1.0008831090946610  https://www.omniexplorer.info/asset/31  "
      ],
      "text/html": "<div>\n<style scoped>\n    .dataframe tbody tr th:only-of-type {\n        vertical-align: middle;\n    }\n\n    .dataframe tbody tr th {\n        vertical-align: top;\n    }\n\n    .dataframe thead th {\n        text-align: right;\n    }\n</style>\n<table border=\"1\" class=\"dataframe\">\n  <thead>\n    <tr style=\"text-align: right;\">\n      <th></th>\n      <th>id</th>\n      <th>rank</th>\n      <th>symbol</th>\n      <th>name</th>\n      <th>supply</th>\n      <th>maxSupply</th>\n      <th>marketCapUsd</th>\n      <th>volumeUsd24Hr</th>\n      <th>priceUsd</th>\n      <th>changePercent24Hr</th>\n      <th>vwap24Hr</th>\n      <th>explorer</th>\n    </tr>\n  </thead>\n  <tbody>\n    <tr>\n      <th>0</th>\n      <td>bitcoin</td>\n      <td>1</td>\n      <td>BTC</td>\n      <td>Bitcoin</td>\n      <td>18713700.0000000000000000</td>\n      <td>21000000.0000000000000000</td>\n      <td>629779699843.8617671043000400</td>\n      <td>41293916727.1138300685452836</td>\n      <td>33653.4036478014378292</td>\n      <td>-11.6194784669449791</td>\n      <td>35336.5606361656955296</td>\n      <td>https://blockchain.info/</td>\n    </tr>\n    <tr>\n      <th>1</th>\n      <td>ethereum</td>\n      <td>2</td>\n      <td>ETH</td>\n      <td>Ethereum</td>\n      <td>115994703.3740000000000000</td>\n      <td>None</td>\n      <td>239736744575.9839181956173070</td>\n      <td>33369330253.0347576222931268</td>\n      <td>2066.7904447585360157</td>\n      <td>-12.1439495830077058</td>\n      <td>2115.4351847714694576</td>\n      <td>https://etherscan.io/</td>\n    </tr>\n    <tr>\n      <th>2</th>\n      <td>tether</td>\n      <td>3</td>\n      <td>USDT</td>\n      <td>Tether</td>\n      <td>59434391387.3616900000000000</td>\n      <td>None</td>\n      <td>59591670522.3983930865422654</td>\n      <td>92891310076.1056181167268930</td>\n      <td>1.0026462647528708</td>\n      <td>0.1144642430063998</td>\n      <td>1.0008831090946610</td>\n      <td>https://www.omniexplorer.info/asset/31</td>\n    </tr>\n  </tbody>\n</table>\n</div>"
     },
     "metadata": {},
     "execution_count": 147
    }
   ],
   "source": [
    "coins_df.head(3)"
   ]
  },
  {
   "cell_type": "code",
   "execution_count": 153,
   "metadata": {},
   "outputs": [
    {
     "output_type": "stream",
     "name": "stdout",
     "text": [
      "bitcoin\n",
      "{'data': {'id': 'bitcoin', 'rank': '1', 'symbol': 'BTC', 'name': 'Bitcoin', 'supply': '18713700.0000000000000000', 'maxSupply': '21000000.0000000000000000', 'marketCapUsd': '685569834967.1825824383313800', 'volumeUsd24Hr': '53051773220.4693883081004942', 'priceUsd': '36634.6492124583905074', 'changePercent24Hr': '2.2094307069932055', 'vwap24Hr': '34392.2133091378133160', 'explorer': 'https://blockchain.info/'}, 'timestamp': 1621843026280}\n",
      "['id', 'rank', 'symbol', 'name', 'supply', 'maxSupply', 'marketCapUsd', 'volumeUsd24Hr', 'priceUsd', 'changePercent24Hr', 'vwap24Hr', 'explorer', 'timestamp']\n",
      "['bitcoin', '1', 'BTC', 'Bitcoin', '18713700.0000000000000000', '21000000.0000000000000000', '685569834967.1825824383313800', '53051773220.4693883081004942', '36634.6492124583905074', '2.2094307069932055', '34392.2133091378133160', 'https://blockchain.info/', 1621843026280]\n",
      "ethereum\n",
      "{'data': {'id': 'ethereum', 'rank': '2', 'symbol': 'ETH', 'name': 'Ethereum', 'supply': '116001392.8115000000000000', 'maxSupply': None, 'marketCapUsd': '264005824047.6495650383819274', 'volumeUsd24Hr': '42811311877.2429996974384566', 'priceUsd': '2275.8849497320594940', 'changePercent24Hr': '5.5262390793396872', 'vwap24Hr': '2052.7334670612928277', 'explorer': 'https://etherscan.io/'}, 'timestamp': 1621843026404}\n",
      "['id', 'rank', 'symbol', 'name', 'supply', 'maxSupply', 'marketCapUsd', 'volumeUsd24Hr', 'priceUsd', 'changePercent24Hr', 'vwap24Hr', 'explorer', 'timestamp']\n",
      "['ethereum', '2', 'ETH', 'Ethereum', '116001392.8115000000000000', None, '264005824047.6495650383819274', '42811311877.2429996974384566', '2275.8849497320594940', '5.5262390793396872', '2052.7334670612928277', 'https://etherscan.io/', 1621843026404]\n",
      "tether\n",
      "{'data': {'id': 'tether', 'rank': '3', 'symbol': 'USDT', 'name': 'Tether', 'supply': '59729891387.3616900000000000', 'maxSupply': None, 'marketCapUsd': '59751850498.3585528851921446', 'volumeUsd24Hr': '118017636052.2815144272987323', 'priceUsd': '1.0003676402298215', 'changePercent24Hr': '-0.1900103427700551', 'vwap24Hr': '1.0009870191582674', 'explorer': 'https://www.omniexplorer.info/asset/31'}, 'timestamp': 1621843026625}\n",
      "['id', 'rank', 'symbol', 'name', 'supply', 'maxSupply', 'marketCapUsd', 'volumeUsd24Hr', 'priceUsd', 'changePercent24Hr', 'vwap24Hr', 'explorer', 'timestamp']\n",
      "['tether', '3', 'USDT', 'Tether', '59729891387.3616900000000000', None, '59751850498.3585528851921446', '118017636052.2815144272987323', '1.0003676402298215', '-0.1900103427700551', '1.0009870191582674', 'https://www.omniexplorer.info/asset/31', 1621843026625]\n"
     ]
    }
   ],
   "source": [
    "columns_list , data_list = [],[]\n",
    "arrays = coins_df.head(3)['id']\n",
    "\n",
    "for id in arrays:\n",
    "\n",
    "    res = requests.get('https://api.coincap.io/v2/assets/{}'.format(id))\n",
    "    res = json.loads(res.text)\n",
    "\n",
    "    columns_list = list(res['data'].keys())\n",
    "    columns_list.append('timestamp')\n",
    "    cl = pd.DataFrame(columns_list)\n",
    "    data_list = list(res['data'].values())\n",
    "    data_list.append(res['timestamp'])\n",
    "    dl = pd.DataFrame(data_list)"
   ]
  },
  {
   "cell_type": "code",
   "execution_count": 154,
   "metadata": {},
   "outputs": [],
   "source": [
    "dl = pd.DataFrame(data_list)\n",
    "cl = pd.DataFrame(columns_list)\n",
    "data = pd.concat([cl, dl], axis = 1).T"
   ]
  },
  {
   "cell_type": "code",
   "execution_count": 155,
   "metadata": {},
   "outputs": [],
   "source": [
    "new_header = data.iloc[0] #grab the first row for the header\n",
    "data = data[1:] #take the data less the header row\n",
    "data.columns = new_header #set the header row as the df header"
   ]
  },
  {
   "cell_type": "code",
   "execution_count": 156,
   "metadata": {},
   "outputs": [
    {
     "output_type": "execute_result",
     "data": {
      "text/plain": [
       "0      id rank symbol    name                        supply maxSupply  \\\n",
       "0  tether    3   USDT  Tether  59729891387.3616900000000000      None   \n",
       "\n",
       "0                  marketCapUsd                  volumeUsd24Hr  \\\n",
       "0  59751850498.3585528851921446  118017636052.2815144272987323   \n",
       "\n",
       "0            priceUsd    changePercent24Hr            vwap24Hr  \\\n",
       "0  1.0003676402298215  -0.1900103427700551  1.0009870191582674   \n",
       "\n",
       "0                                explorer      timestamp  \n",
       "0  https://www.omniexplorer.info/asset/31  1621843026625  "
      ],
      "text/html": "<div>\n<style scoped>\n    .dataframe tbody tr th:only-of-type {\n        vertical-align: middle;\n    }\n\n    .dataframe tbody tr th {\n        vertical-align: top;\n    }\n\n    .dataframe thead th {\n        text-align: right;\n    }\n</style>\n<table border=\"1\" class=\"dataframe\">\n  <thead>\n    <tr style=\"text-align: right;\">\n      <th></th>\n      <th>id</th>\n      <th>rank</th>\n      <th>symbol</th>\n      <th>name</th>\n      <th>supply</th>\n      <th>maxSupply</th>\n      <th>marketCapUsd</th>\n      <th>volumeUsd24Hr</th>\n      <th>priceUsd</th>\n      <th>changePercent24Hr</th>\n      <th>vwap24Hr</th>\n      <th>explorer</th>\n      <th>timestamp</th>\n    </tr>\n  </thead>\n  <tbody>\n    <tr>\n      <th>0</th>\n      <td>tether</td>\n      <td>3</td>\n      <td>USDT</td>\n      <td>Tether</td>\n      <td>59729891387.3616900000000000</td>\n      <td>None</td>\n      <td>59751850498.3585528851921446</td>\n      <td>118017636052.2815144272987323</td>\n      <td>1.0003676402298215</td>\n      <td>-0.1900103427700551</td>\n      <td>1.0009870191582674</td>\n      <td>https://www.omniexplorer.info/asset/31</td>\n      <td>1621843026625</td>\n    </tr>\n  </tbody>\n</table>\n</div>"
     },
     "metadata": {},
     "execution_count": 156
    }
   ],
   "source": [
    "data"
   ]
  },
  {
   "cell_type": "code",
   "execution_count": null,
   "metadata": {},
   "outputs": [],
   "source": []
  }
 ]
}