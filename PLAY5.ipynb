{
 "metadata": {
  "language_info": {
   "codemirror_mode": {
    "name": "ipython",
    "version": 3
   },
   "file_extension": ".py",
   "mimetype": "text/x-python",
   "name": "python",
   "nbconvert_exporter": "python",
   "pygments_lexer": "ipython3",
   "version": "3.7.6"
  },
  "orig_nbformat": 2,
  "kernelspec": {
   "name": "python376jvsc74a57bd0ae2e79052d9395c49b74f8dc54800526322d4dd7468d07d58500febce420b425",
   "display_name": "Python 3.7.6 64-bit ('base': conda)"
  }
 },
 "nbformat": 4,
 "nbformat_minor": 2,
 "cells": [
  {
   "cell_type": "code",
   "execution_count": 1,
   "metadata": {},
   "outputs": [],
   "source": [
    "from sqlalchemy import create_engine\n",
    "import pandas as pd\n",
    "import sqlalchemy\n",
    "import dtale\n",
    "\n",
    "%config IPCompleter.greedy=True\n",
    "\n",
    "core_address = 'analysts-dwh.cabify-data.com'\n",
    "core_port = '5439'\n",
    "\n",
    "f = open(\"/Users/santiagocanas/Downloads/redshift.txt\", mode = \"r\")\n",
    "file = f.readlines()\n",
    "\n",
    "core_username = str(file[0].strip())\n",
    "core_password = str(file[1].strip())\n",
    "core_dbname = 'dwh'\n",
    "\n",
    "dwh_str = ('postgresql://{username}:{password}@{ipaddress}:{port}/{dbname}'.format(\n",
    "                        username = core_username,\n",
    "                        password = core_password,\n",
    "                        ipaddress = core_address,\n",
    "                        port = core_port,\n",
    "                        dbname = core_dbname))\n",
    "\n",
    "dwh_cnx = create_engine(dwh_str)"
   ]
  },
  {
   "cell_type": "code",
   "execution_count": null,
   "metadata": {},
   "outputs": [],
   "source": [
    "sql = '''\n",
    "select\n",
    "    jt.fk_journey_id,\n",
    "    sum(js.qt_price_local) as price_supplements\n",
    "from\n",
    "    datawarehouse.ops_fac_journeytotals_supplements js\n",
    "        inner join\n",
    "    datawarehouse.ops_fac_journeytotals jt on jt.sk_journeytotals = js.fk_journeytotals\n",
    "where\n",
    "    exists (select\n",
    "                *\n",
    "            from\n",
    "                datawarehouse.fin_dim_sale_entries se\n",
    "                    inner join\n",
    "                datawarehouse.fin_dim_sale s on se.fk_sale = s.sk_sale\n",
    "            where\n",
    "                jt.fk_journey_id = se.fk_journey_id\n",
    "                and s.cd_code IN ('ESPV21GS039156')\n",
    "                and s.dt_date >= date_trunc('month', current_date - interval '2 month')\n",
    "                and s.ds_sale_state = 'closed'\n",
    "                and s.in_delete is null\n",
    "    )\n",
    "group by \n",
    "    1\n",
    "'''\n",
    "data = pd.read_sql_query(sql, dwh_cnx)\n",
    "data"
   ]
  },
  {
   "cell_type": "code",
   "execution_count": null,
   "metadata": {},
   "outputs": [],
   "source": [
    "sql = '''\n",
    "\tselect\n",
    "\t\ts.sk_sale,\n",
    "\t\tmtm.id_journey as journey_id,\n",
    "\t\tmtm.qt_real_distance as moving,\n",
    "\t\tmtm.ds_pm_rider as payment_method_rider,\n",
    "\t\tmtm.ds_platform as platform,\n",
    "\t\tjt.qt_cost_total_local as cost,\n",
    "\t\tmtm.ds_region_name as region_name,\n",
    "\t\tmtm.ds_district_start as ds_district,\n",
    "\t\tmtm.ds_neighborhood_start as ds_neighborhood,\n",
    "\t\tmtm.ds_product_slug as slug,\n",
    "\t\tmtm.id_company_id as id_company,\n",
    "\t\tmtm.ds_company_name as company_name,\n",
    "\t\tmtm.id_driver_id as id_driver,\n",
    "\t\trc.cd_iata_code as region_code\n",
    "--\t\tjs.price_supplements\n",
    "\tfrom\n",
    "\t\tdatawarehouse.fin_dim_sale s\n",
    "\t\t\tinner join\n",
    "\t\tdatawarehouse.fin_dim_sale_entries se on s.sk_sale = se.fk_sale\n",
    "\t\t\tleft join\n",
    "\t\tdatawarehouse.ops_mtm_journey mtm on se.fk_journey_id = mtm.sk_journey\n",
    "\t\t\tleft join\n",
    "\t\tdatawarehouse.ops_fac_journeytotals jt on mtm.sk_journey = jt.fk_journey_id\n",
    "\t\t\tleft join\n",
    "\t\tdatawarehouse.ops_dim_region_code rc on rc.fk_region_id = mtm.fk_region_id\n",
    "--\t\t\tleft join\n",
    "--\t\tjourney_supplements js on se.fk_journey_id = js.fk_journey_id\n",
    "\twhere\n",
    "\t\ts.dt_date >= date_trunc('month', current_date - interval '2 month')\n",
    "        and s.cd_code IN ('ESPV21GS039156')\n",
    "\t\tand s.ds_sale_state = 'closed'\n",
    "\t\tand s.in_delete is null\n",
    "'''\n",
    "dat1 = pd.read_sql_query(sql, dwh_cnx)\n",
    "dat1"
   ]
  },
  {
   "cell_type": "code",
   "execution_count": 15,
   "metadata": {},
   "outputs": [
    {
     "output_type": "execute_result",
     "data": {
      "text/plain": [
       "        sale_code  fk_client_id\n",
       "0  ESPV21GS039156      38715851"
      ],
      "text/html": "<div>\n<style scoped>\n    .dataframe tbody tr th:only-of-type {\n        vertical-align: middle;\n    }\n\n    .dataframe tbody tr th {\n        vertical-align: top;\n    }\n\n    .dataframe thead th {\n        text-align: right;\n    }\n</style>\n<table border=\"1\" class=\"dataframe\">\n  <thead>\n    <tr style=\"text-align: right;\">\n      <th></th>\n      <th>sale_code</th>\n      <th>fk_client_id</th>\n    </tr>\n  </thead>\n  <tbody>\n    <tr>\n      <th>0</th>\n      <td>ESPV21GS039156</td>\n      <td>38715851</td>\n    </tr>\n  </tbody>\n</table>\n</div>"
     },
     "metadata": {},
     "execution_count": 15
    }
   ],
   "source": [
    "sql = '''\n",
    "select\n",
    "\ts.cd_code as sale_code,\n",
    "    s.fk_client_id\n",
    "from\n",
    "\tdatawarehouse.fin_dim_sale s\n",
    "\t\tinner join\n",
    "\tdatawarehouse.fin_dim_sale_entries se on s.sk_sale = se.fk_sale\n",
    "\t\tinner join\n",
    "\tdatawarehouse.fin_dim_sale sr on s.fk_rectify_sale_id = sr.sk_sale\n",
    "\t\tinner join\n",
    "\tdatawarehouse.fin_dim_invoice i on s.fk_invoice_id = i.sk_invoice\n",
    "\t\tinner join\n",
    "\tdatawarehouse.ops_dim_client c on s.fk_client_id = c.sk_client\n",
    "where\n",
    "\ts.dt_date >= date_trunc('month', current_date - interval '2 month')\n",
    "    and s.cd_code IN ('ESPV21GS039156')\n",
    "\tand s.ds_sale_state = 'closed'\n",
    "\tand s.in_delete is null\n",
    "'''\n",
    "dat2 = pd.read_sql_query(sql, dwh_cnx)\n",
    "dat2"
   ]
  },
  {
   "cell_type": "code",
   "execution_count": 11,
   "metadata": {},
   "outputs": [
    {
     "output_type": "execute_result",
     "data": {
      "text/plain": [
       "Empty DataFrame\n",
       "Columns: [sk_client, id_client]\n",
       "Index: []"
      ],
      "text/html": "<div>\n<style scoped>\n    .dataframe tbody tr th:only-of-type {\n        vertical-align: middle;\n    }\n\n    .dataframe tbody tr th {\n        vertical-align: top;\n    }\n\n    .dataframe thead th {\n        text-align: right;\n    }\n</style>\n<table border=\"1\" class=\"dataframe\">\n  <thead>\n    <tr style=\"text-align: right;\">\n      <th></th>\n      <th>sk_client</th>\n      <th>id_client</th>\n    </tr>\n  </thead>\n  <tbody>\n  </tbody>\n</table>\n</div>"
     },
     "metadata": {},
     "execution_count": 11
    }
   ],
   "source": [
    "sql = '''\n",
    "select \n",
    "    sk_client,\n",
    "    id_client\n",
    "from\n",
    "    datawarehouse.ops_dim_client c\n",
    "where \n",
    "    c.sk_client = 38715851\n",
    "'''\n",
    "cli = pd.read_sql_query(sql, dwh_cnx)\n",
    "cli"
   ]
  },
  {
   "cell_type": "code",
   "execution_count": 12,
   "metadata": {},
   "outputs": [
    {
     "output_type": "execute_result",
     "data": {
      "text/plain": [
       "    sk_user                           id_user  fk_active_payment_method_id  \\\n",
       "0  38715851  b1df52defd1343dbae23c68cde5ca200                           -1   \n",
       "\n",
       "  in_activated  fk_admin_agency_id  fk_active_region_id  fk_agency_id  \\\n",
       "0         None                  -1                   -1            -1   \n",
       "\n",
       "            cd_auth_token dt_authorization_service_date ds_avatar_filename  \\\n",
       "0  Y6qy7lx1ZD2698A0f2rnbg                          None               None   \n",
       "\n",
       "   ... ds_loyaltyprogram_card_number_encrypt tm_mobile_verified_utc_at  \\\n",
       "0  ...                                  None   2021-02-06 23:49:18.117   \n",
       "\n",
       "   dt_mobile_verified_utc_at  tm_at_movo_tos_utc_at  dt_at_movo_tos_utc_at  \\\n",
       "0                 2021-02-06                   None                   None   \n",
       "\n",
       "              ad_inserted_at  tm_at_aragon_tos_utc_at  \\\n",
       "0 2021-02-08 02:35:06.750998      2021-02-06 23:49:19   \n",
       "\n",
       "   dt_at_aragon_tos_utc_at  tm_at_wible_tos_utc_at dt_at_wible_tos_utc_at  \n",
       "0               2021-02-06                    None                   None  \n",
       "\n",
       "[1 rows x 153 columns]"
      ],
      "text/html": "<div>\n<style scoped>\n    .dataframe tbody tr th:only-of-type {\n        vertical-align: middle;\n    }\n\n    .dataframe tbody tr th {\n        vertical-align: top;\n    }\n\n    .dataframe thead th {\n        text-align: right;\n    }\n</style>\n<table border=\"1\" class=\"dataframe\">\n  <thead>\n    <tr style=\"text-align: right;\">\n      <th></th>\n      <th>sk_user</th>\n      <th>id_user</th>\n      <th>fk_active_payment_method_id</th>\n      <th>in_activated</th>\n      <th>fk_admin_agency_id</th>\n      <th>fk_active_region_id</th>\n      <th>fk_agency_id</th>\n      <th>cd_auth_token</th>\n      <th>dt_authorization_service_date</th>\n      <th>ds_avatar_filename</th>\n      <th>...</th>\n      <th>ds_loyaltyprogram_card_number_encrypt</th>\n      <th>tm_mobile_verified_utc_at</th>\n      <th>dt_mobile_verified_utc_at</th>\n      <th>tm_at_movo_tos_utc_at</th>\n      <th>dt_at_movo_tos_utc_at</th>\n      <th>ad_inserted_at</th>\n      <th>tm_at_aragon_tos_utc_at</th>\n      <th>dt_at_aragon_tos_utc_at</th>\n      <th>tm_at_wible_tos_utc_at</th>\n      <th>dt_at_wible_tos_utc_at</th>\n    </tr>\n  </thead>\n  <tbody>\n    <tr>\n      <th>0</th>\n      <td>38715851</td>\n      <td>b1df52defd1343dbae23c68cde5ca200</td>\n      <td>-1</td>\n      <td>None</td>\n      <td>-1</td>\n      <td>-1</td>\n      <td>-1</td>\n      <td>Y6qy7lx1ZD2698A0f2rnbg</td>\n      <td>None</td>\n      <td>None</td>\n      <td>...</td>\n      <td>None</td>\n      <td>2021-02-06 23:49:18.117</td>\n      <td>2021-02-06</td>\n      <td>None</td>\n      <td>None</td>\n      <td>2021-02-08 02:35:06.750998</td>\n      <td>2021-02-06 23:49:19</td>\n      <td>2021-02-06</td>\n      <td>None</td>\n      <td>None</td>\n    </tr>\n  </tbody>\n</table>\n<p>1 rows × 153 columns</p>\n</div>"
     },
     "metadata": {},
     "execution_count": 12
    }
   ],
   "source": [
    "sql = '''\n",
    "select \n",
    "    *\n",
    "from\n",
    "    datawarehouse.ops_dim_user\n",
    "where\n",
    "    sk_user = 38715851\n",
    "'''\n",
    "user = pd.read_sql_query(sql, dwh_cnx)\n",
    "user"
   ]
  },
  {
   "cell_type": "code",
   "execution_count": 13,
   "metadata": {},
   "outputs": [
    {
     "output_type": "execute_result",
     "data": {
      "text/plain": [
       "['sk_user',\n",
       " 'id_user',\n",
       " 'fk_active_payment_method_id',\n",
       " 'in_activated',\n",
       " 'fk_admin_agency_id',\n",
       " 'fk_active_region_id',\n",
       " 'fk_agency_id',\n",
       " 'cd_auth_token',\n",
       " 'dt_authorization_service_date',\n",
       " 'ds_avatar_filename',\n",
       " 'ds_avatar_url',\n",
       " 'dt_birthday',\n",
       " 'fk_blacklist_detail_id',\n",
       " 'fk_campaign_click_id',\n",
       " 'fk_campaign_source_id',\n",
       " 'in_can_manage',\n",
       " 'in_can_order_for_others',\n",
       " 'fk_client_id',\n",
       " 'fk_company_id',\n",
       " 'ds_company_name',\n",
       " 'cd_country',\n",
       " 'tm_created_utc_at',\n",
       " 'dt_created_utc_at',\n",
       " 'cd_default_charge_code',\n",
       " 'in_disable_user_events',\n",
       " 'in_disabled',\n",
       " 'in_da_approved',\n",
       " 'fk_da_funnel_id',\n",
       " 'ds_da_funnel_name',\n",
       " 'id_da_id',\n",
       " 'ds_driver_course_status',\n",
       " 'ds_driver_license',\n",
       " 'ds_email',\n",
       " 'in_email_bounced',\n",
       " 'ds_fleet_role',\n",
       " 'ds_full_name',\n",
       " 'ds_gender',\n",
       " 'ds_general_register_number',\n",
       " 'cd_employee_code',\n",
       " 'tm_info_invitations_sent_utc_at',\n",
       " 'dt_info_invitations_sent_utc_at',\n",
       " 'fk_group_id',\n",
       " 'cd_invitation_code',\n",
       " 'cd_language',\n",
       " 'in_loc',\n",
       " 'ds_linkedin_url',\n",
       " 'cd_locale',\n",
       " 'in_marketing_opt_out',\n",
       " 'ds_mobile',\n",
       " 'fk_loyalty_program_id',\n",
       " 'ds_mobile_cc',\n",
       " 'ds_mobile_num',\n",
       " 'ds_name',\n",
       " 'cd_national_id_number',\n",
       " 'ds_notes',\n",
       " 'in_oo_activation',\n",
       " 'in_oo_opt_outs_email',\n",
       " 'in_oo_marketing',\n",
       " 'in_oo_push',\n",
       " 'in_oo_sms',\n",
       " 'ds_origin_user_agent',\n",
       " 'cd_password_digest',\n",
       " 'tm_password_reset_sent_utc_at',\n",
       " 'dt_password_reset_sent_utc_at',\n",
       " 'cd_password_reset_token',\n",
       " 'fk_payment_method_id',\n",
       " 'in_pending',\n",
       " 'ds_position',\n",
       " 'ds_prf_ac',\n",
       " 'ds_prf_call',\n",
       " 'ds_prf_music',\n",
       " 'ds_prf_open_door',\n",
       " 'ds_prf_other',\n",
       " 'ds_prf_hm_open_door_sp',\n",
       " 'ds_prf_hm_open_door_en',\n",
       " 'ds_prf_hm_open_door_ct',\n",
       " 'ds_prf_hm_open_door_pt',\n",
       " 'ds_prf_hm_open_door_ja',\n",
       " 'ds_prf_hm_air_conditioning_sp',\n",
       " 'ds_prf_hm_air_conditioning_en',\n",
       " 'ds_prf_hm_air_conditioning_ct',\n",
       " 'ds_prf_hm_air_conditioning_pt',\n",
       " 'ds_prf_hm_call_sp',\n",
       " 'ds_prf_hm_call_en',\n",
       " 'ds_prf_hm_call_ct',\n",
       " 'ds_prf_hm_call_pt',\n",
       " 'ds_prf_hm_call_ja',\n",
       " 'ds_prf_hm_music_sp',\n",
       " 'ds_prf_hm_music_en',\n",
       " 'ds_prf_hm_music_pt',\n",
       " 'ds_prf_hm_music_ja',\n",
       " 'in_receive_user_events',\n",
       " 'fk_preferred_region_id',\n",
       " 'fk_region_id',\n",
       " 'ds_reserve_class',\n",
       " 'in_reservation_notification',\n",
       " 'ds_role',\n",
       " 'ds_role_level',\n",
       " 'qt_score',\n",
       " 'ds_source',\n",
       " 'ds_surname',\n",
       " 'cd_tax_code',\n",
       " 'ds_em_mobile_num',\n",
       " 'ds_em_name',\n",
       " 'ds_em_mobile_cc',\n",
       " 'ds_em_email',\n",
       " 'ds_type',\n",
       " 'tm_updated_utc_at',\n",
       " 'dt_updated_utc_at',\n",
       " 'cd_auth_token_encrypt',\n",
       " 'ds_avatar_filename_encrypt',\n",
       " 'ds_avatar_url_encrypt',\n",
       " 'ds_company_name_encrypt',\n",
       " 'ds_email_encrypt',\n",
       " 'ds_general_register_number_encrypt',\n",
       " 'ds_employee_code_encrypt',\n",
       " 'ds_invitation_code_encrypt',\n",
       " 'ds_linkedin_url_encrypt',\n",
       " 'ds_mobile_encrypt',\n",
       " 'ds_mobile_num_encrypt',\n",
       " 'ds_name_encrypt',\n",
       " 'ds_national_id_number_encrypt',\n",
       " 'ds_notes_encrypt',\n",
       " 'ds_surname_encrypt',\n",
       " 'ds_em_mobile_num__encrypt',\n",
       " 'ds_em_name_encrypt',\n",
       " 'ds_em_mobile_cc_encrypt',\n",
       " 'ds_em_email_encrypt',\n",
       " 'ds_full_name_encrypt',\n",
       " 'ds_driver_license_encrypt',\n",
       " 'ds_mobile_cc_encrypt',\n",
       " 'in_delete',\n",
       " 'tm_at_barcelona_tos_utc_at',\n",
       " 'dt_at_barcelona_tos_utc_at',\n",
       " 'fk_last_region_id',\n",
       " 'in_verified_identity',\n",
       " 'tm_privacy_and_terms_accepted_utc_at',\n",
       " 'dt_privacy_and_terms_accepted_utc_at',\n",
       " 'tm_at_valencia_tos_utc_at',\n",
       " 'dt_at_valencia_tos_utc_at',\n",
       " 'tm_loyaltyprogram_starts_utc_at',\n",
       " 'dt_loyaltyprogram_starts_utc_at',\n",
       " 'ds_loyaltyprogram_card_number',\n",
       " 'ds_loyaltyprogram_card_number_encrypt',\n",
       " 'tm_mobile_verified_utc_at',\n",
       " 'dt_mobile_verified_utc_at',\n",
       " 'tm_at_movo_tos_utc_at',\n",
       " 'dt_at_movo_tos_utc_at',\n",
       " 'ad_inserted_at',\n",
       " 'tm_at_aragon_tos_utc_at',\n",
       " 'dt_at_aragon_tos_utc_at',\n",
       " 'tm_at_wible_tos_utc_at',\n",
       " 'dt_at_wible_tos_utc_at']"
      ]
     },
     "metadata": {},
     "execution_count": 13
    }
   ],
   "source": [
    "list(user.columns)"
   ]
  },
  {
   "cell_type": "code",
   "execution_count": 21,
   "metadata": {},
   "outputs": [],
   "source": [
    "agg = pd.read_excel('/Users/santiagocanas/Downloads/query_agg.xlsx')"
   ]
  },
  {
   "cell_type": "code",
   "execution_count": 22,
   "metadata": {},
   "outputs": [
    {
     "output_type": "execute_result",
     "data": {
      "text/plain": [
       "                  issuer               actionSource  \\\n",
       "0   BANCO SANTANDER S.A.  ACTION_SOURCE_SCA_CHECKER   \n",
       "1           BANKIA, S.A.  ACTION_SOURCE_SCA_CHECKER   \n",
       "2                 BANKIA  ACTION_SOURCE_SCA_CHECKER   \n",
       "3  BANCO SANTANDER, S.A.  ACTION_SOURCE_SCA_CHECKER   \n",
       "4                    NaN  ACTION_SOURCE_SCA_CHECKER   \n",
       "\n",
       "                                               steps  times  \n",
       "0  IDENTIFY_SHOPPER,AUTHENTICATION_FINISHED,AUTHO...   2786  \n",
       "1  IDENTIFY_SHOPPER,AUTHENTICATION_FINISHED,AUTHO...   2322  \n",
       "2  IDENTIFY_SHOPPER,AUTHENTICATION_FINISHED,AUTHO...   1975  \n",
       "3  IDENTIFY_SHOPPER,AUTHENTICATION_FINISHED,AUTHO...   1535  \n",
       "4  IDENTIFY_SHOPPER,AUTHENTICATION_FINISHED,AUTHO...   1525  "
      ],
      "text/html": "<div>\n<style scoped>\n    .dataframe tbody tr th:only-of-type {\n        vertical-align: middle;\n    }\n\n    .dataframe tbody tr th {\n        vertical-align: top;\n    }\n\n    .dataframe thead th {\n        text-align: right;\n    }\n</style>\n<table border=\"1\" class=\"dataframe\">\n  <thead>\n    <tr style=\"text-align: right;\">\n      <th></th>\n      <th>issuer</th>\n      <th>actionSource</th>\n      <th>steps</th>\n      <th>times</th>\n    </tr>\n  </thead>\n  <tbody>\n    <tr>\n      <th>0</th>\n      <td>BANCO SANTANDER S.A.</td>\n      <td>ACTION_SOURCE_SCA_CHECKER</td>\n      <td>IDENTIFY_SHOPPER,AUTHENTICATION_FINISHED,AUTHO...</td>\n      <td>2786</td>\n    </tr>\n    <tr>\n      <th>1</th>\n      <td>BANKIA, S.A.</td>\n      <td>ACTION_SOURCE_SCA_CHECKER</td>\n      <td>IDENTIFY_SHOPPER,AUTHENTICATION_FINISHED,AUTHO...</td>\n      <td>2322</td>\n    </tr>\n    <tr>\n      <th>2</th>\n      <td>BANKIA</td>\n      <td>ACTION_SOURCE_SCA_CHECKER</td>\n      <td>IDENTIFY_SHOPPER,AUTHENTICATION_FINISHED,AUTHO...</td>\n      <td>1975</td>\n    </tr>\n    <tr>\n      <th>3</th>\n      <td>BANCO SANTANDER, S.A.</td>\n      <td>ACTION_SOURCE_SCA_CHECKER</td>\n      <td>IDENTIFY_SHOPPER,AUTHENTICATION_FINISHED,AUTHO...</td>\n      <td>1535</td>\n    </tr>\n    <tr>\n      <th>4</th>\n      <td>NaN</td>\n      <td>ACTION_SOURCE_SCA_CHECKER</td>\n      <td>IDENTIFY_SHOPPER,AUTHENTICATION_FINISHED,AUTHO...</td>\n      <td>1525</td>\n    </tr>\n  </tbody>\n</table>\n</div>"
     },
     "metadata": {},
     "execution_count": 22
    }
   ],
   "source": [
    "agg.head()"
   ]
  },
  {
   "cell_type": "code",
   "execution_count": 23,
   "metadata": {},
   "outputs": [],
   "source": [
    "query = pd.read_excel('/Users/santiagocanas/Downloads/query.xlsx')"
   ]
  },
  {
   "cell_type": "code",
   "execution_count": 27,
   "metadata": {},
   "outputs": [
    {
     "output_type": "execute_result",
     "data": {
      "text/plain": [
       "                                                                                                                      id\n",
       "issuer                                actionSource              steps                                                   \n",
       "BANCO SANTANDER S.A.                  ACTION_SOURCE_SCA_CHECKER IDENTIFY_SHOPPER,AUTHENTICATION_FINISHED,AUTHOR...  2788\n",
       "BANKIA, S.A.                          ACTION_SOURCE_SCA_CHECKER IDENTIFY_SHOPPER,AUTHENTICATION_FINISHED,AUTHOR...  2325\n",
       "BANKIA                                ACTION_SOURCE_SCA_CHECKER IDENTIFY_SHOPPER,AUTHENTICATION_FINISHED,AUTHOR...  1978\n",
       "BANCO SANTANDER, S.A.                 ACTION_SOURCE_SCA_CHECKER IDENTIFY_SHOPPER,AUTHENTICATION_FINISHED,AUTHOR...  1536\n",
       "CAIXABANK, S.A.                       ACTION_SOURCE_SCA_CHECKER IDENTIFY_SHOPPER,AUTHENTICATION_FINISHED,AUTHOR...  1262\n",
       "...                                                                                                                  ...\n",
       "EURO 6000, S.A.                       ACTION_SOURCE_SCA_CHECKER IDENTIFY_SHOPPER,AUTHENTICATION_FINISHED,AUTHOR...     1\n",
       "DNB NOR BANK ASA                      ACTION_SOURCE_SCA_CHECKER IDENTIFY_SHOPPER,AUTHENTICATION_FINISHED,AUTHOR...     1\n",
       "DNB BANK ASA                          ACTION_SOURCE_SCA_CHECKER IDENTIFY_SHOPPER,AUTHENTICATION_FINISHED,AUTHOR...     1\n",
       "DEUTSCHER SPARKASSEN- UND GIROVERBAND ACTION_SOURCE_SCA_CHECKER IDENTIFY_SHOPPER,AUTHENTICATION_FINISHED,AUTHOR...     1\n",
       "COMDIRECT BANK AG                     ACTION_SOURCE_SCA_CHECKER IDENTIFY_SHOPPER,AUTHENTICATION_FINISHED,AUTHOR...     1\n",
       "\n",
       "[166 rows x 1 columns]"
      ],
      "text/html": "<div>\n<style scoped>\n    .dataframe tbody tr th:only-of-type {\n        vertical-align: middle;\n    }\n\n    .dataframe tbody tr th {\n        vertical-align: top;\n    }\n\n    .dataframe thead th {\n        text-align: right;\n    }\n</style>\n<table border=\"1\" class=\"dataframe\">\n  <thead>\n    <tr style=\"text-align: right;\">\n      <th></th>\n      <th></th>\n      <th></th>\n      <th>id</th>\n    </tr>\n    <tr>\n      <th>issuer</th>\n      <th>actionSource</th>\n      <th>steps</th>\n      <th></th>\n    </tr>\n  </thead>\n  <tbody>\n    <tr>\n      <th>BANCO SANTANDER S.A.</th>\n      <th>ACTION_SOURCE_SCA_CHECKER</th>\n      <th>IDENTIFY_SHOPPER,AUTHENTICATION_FINISHED,AUTHORISED</th>\n      <td>2788</td>\n    </tr>\n    <tr>\n      <th>BANKIA, S.A.</th>\n      <th>ACTION_SOURCE_SCA_CHECKER</th>\n      <th>IDENTIFY_SHOPPER,AUTHENTICATION_FINISHED,AUTHORISED</th>\n      <td>2325</td>\n    </tr>\n    <tr>\n      <th>BANKIA</th>\n      <th>ACTION_SOURCE_SCA_CHECKER</th>\n      <th>IDENTIFY_SHOPPER,AUTHENTICATION_FINISHED,AUTHORISED</th>\n      <td>1978</td>\n    </tr>\n    <tr>\n      <th>BANCO SANTANDER, S.A.</th>\n      <th>ACTION_SOURCE_SCA_CHECKER</th>\n      <th>IDENTIFY_SHOPPER,AUTHENTICATION_FINISHED,AUTHORISED</th>\n      <td>1536</td>\n    </tr>\n    <tr>\n      <th>CAIXABANK, S.A.</th>\n      <th>ACTION_SOURCE_SCA_CHECKER</th>\n      <th>IDENTIFY_SHOPPER,AUTHENTICATION_FINISHED,AUTHORISED</th>\n      <td>1262</td>\n    </tr>\n    <tr>\n      <th>...</th>\n      <th>...</th>\n      <th>...</th>\n      <td>...</td>\n    </tr>\n    <tr>\n      <th>EURO 6000, S.A.</th>\n      <th>ACTION_SOURCE_SCA_CHECKER</th>\n      <th>IDENTIFY_SHOPPER,AUTHENTICATION_FINISHED,AUTHORISED</th>\n      <td>1</td>\n    </tr>\n    <tr>\n      <th>DNB NOR BANK ASA</th>\n      <th>ACTION_SOURCE_SCA_CHECKER</th>\n      <th>IDENTIFY_SHOPPER,AUTHENTICATION_FINISHED,AUTHORISED</th>\n      <td>1</td>\n    </tr>\n    <tr>\n      <th>DNB BANK ASA</th>\n      <th>ACTION_SOURCE_SCA_CHECKER</th>\n      <th>IDENTIFY_SHOPPER,AUTHENTICATION_FINISHED,AUTHORISED</th>\n      <td>1</td>\n    </tr>\n    <tr>\n      <th>DEUTSCHER SPARKASSEN- UND GIROVERBAND</th>\n      <th>ACTION_SOURCE_SCA_CHECKER</th>\n      <th>IDENTIFY_SHOPPER,AUTHENTICATION_FINISHED,AUTHORISED</th>\n      <td>1</td>\n    </tr>\n    <tr>\n      <th>COMDIRECT BANK AG</th>\n      <th>ACTION_SOURCE_SCA_CHECKER</th>\n      <th>IDENTIFY_SHOPPER,AUTHENTICATION_FINISHED,AUTHORISED</th>\n      <td>1</td>\n    </tr>\n  </tbody>\n</table>\n<p>166 rows × 1 columns</p>\n</div>"
     },
     "metadata": {},
     "execution_count": 27
    }
   ],
   "source": [
    "query.groupby(['issuer','actionSource','steps']).agg({'id':'nunique'}).sort_values(by = 'id', ascending= False)"
   ]
  },
  {
   "cell_type": "code",
   "execution_count": 29,
   "metadata": {},
   "outputs": [
    {
     "output_type": "execute_result",
     "data": {
      "text/plain": [
       "        fk_client_id  count\n",
       "0           22860038      7\n",
       "1             716879      2\n",
       "2           38272837      2\n",
       "3           11607015      3\n",
       "4           28677223      8\n",
       "...              ...    ...\n",
       "271411      21154406      2\n",
       "271412      16007655      2\n",
       "271413       9132500      2\n",
       "271414      34194823      2\n",
       "271415      38827434      2\n",
       "\n",
       "[271416 rows x 2 columns]"
      ],
      "text/html": "<div>\n<style scoped>\n    .dataframe tbody tr th:only-of-type {\n        vertical-align: middle;\n    }\n\n    .dataframe tbody tr th {\n        vertical-align: top;\n    }\n\n    .dataframe thead th {\n        text-align: right;\n    }\n</style>\n<table border=\"1\" class=\"dataframe\">\n  <thead>\n    <tr style=\"text-align: right;\">\n      <th></th>\n      <th>fk_client_id</th>\n      <th>count</th>\n    </tr>\n  </thead>\n  <tbody>\n    <tr>\n      <th>0</th>\n      <td>22860038</td>\n      <td>7</td>\n    </tr>\n    <tr>\n      <th>1</th>\n      <td>716879</td>\n      <td>2</td>\n    </tr>\n    <tr>\n      <th>2</th>\n      <td>38272837</td>\n      <td>2</td>\n    </tr>\n    <tr>\n      <th>3</th>\n      <td>11607015</td>\n      <td>3</td>\n    </tr>\n    <tr>\n      <th>4</th>\n      <td>28677223</td>\n      <td>8</td>\n    </tr>\n    <tr>\n      <th>...</th>\n      <td>...</td>\n      <td>...</td>\n    </tr>\n    <tr>\n      <th>271411</th>\n      <td>21154406</td>\n      <td>2</td>\n    </tr>\n    <tr>\n      <th>271412</th>\n      <td>16007655</td>\n      <td>2</td>\n    </tr>\n    <tr>\n      <th>271413</th>\n      <td>9132500</td>\n      <td>2</td>\n    </tr>\n    <tr>\n      <th>271414</th>\n      <td>34194823</td>\n      <td>2</td>\n    </tr>\n    <tr>\n      <th>271415</th>\n      <td>38827434</td>\n      <td>2</td>\n    </tr>\n  </tbody>\n</table>\n<p>271416 rows × 2 columns</p>\n</div>"
     },
     "metadata": {},
     "execution_count": 29
    }
   ],
   "source": [
    "sql = '''\n",
    "SELECT \n",
    "\tp.fk_client_id,\n",
    "\tCOUNT(DISTINCT p.id_payment)\n",
    "from \n",
    "\tdatawarehouse.fin_fac_payment p\n",
    "where \n",
    "\tp.ds_state = 'canceled'\n",
    "\tand p.tm_created_at >= current_date - interval'1 month'\n",
    "group by \n",
    "\t1\n",
    "having \n",
    "\tCOUNT(DISTINCT p.id_payment) > 1 '''\n",
    "cli = pd.read_sql_query(sql, dwh_cnx)\n",
    "cli"
   ]
  },
  {
   "cell_type": "code",
   "execution_count": null,
   "metadata": {},
   "outputs": [],
   "source": []
  }
 ]
}