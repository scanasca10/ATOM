{
 "metadata": {
  "language_info": {
   "codemirror_mode": {
    "name": "ipython",
    "version": 3
   },
   "file_extension": ".py",
   "mimetype": "text/x-python",
   "name": "python",
   "nbconvert_exporter": "python",
   "pygments_lexer": "ipython3",
   "version": "3.7.6"
  },
  "orig_nbformat": 2,
  "kernelspec": {
   "name": "python376jvsc74a57bd0ae2e79052d9395c49b74f8dc54800526322d4dd7468d07d58500febce420b425",
   "display_name": "Python 3.7.6 64-bit ('base': conda)"
  }
 },
 "nbformat": 4,
 "nbformat_minor": 2,
 "cells": [
  {
   "cell_type": "code",
   "execution_count": 91,
   "metadata": {},
   "outputs": [],
   "source": [
    "import pandas as pd\n",
    "import json\n",
    "import requests\n",
    "import datetime\n",
    "import calendar"
   ]
  },
  {
   "cell_type": "code",
   "execution_count": 92,
   "metadata": {},
   "outputs": [],
   "source": [
    "coin = requests.get('https://api.coincap.io/v2/assets?limit=30') #limit 30 because coins are ranked already\n",
    "coin = json.loads(coin.text)\n",
    "coins_df = pd.json_normalize(coin['data'])"
   ]
  },
  {
   "cell_type": "code",
   "execution_count": 93,
   "metadata": {},
   "outputs": [
    {
     "output_type": "execute_result",
     "data": {
      "text/plain": [
       "             id rank symbol          name                        supply  \\\n",
       "0       bitcoin    1    BTC       Bitcoin     18720075.0000000000000000   \n",
       "1      ethereum    2    ETH      Ethereum    116052830.9365000000000000   \n",
       "2        tether    3   USDT        Tether  61125907361.9716900000000000   \n",
       "3  binance-coin    4    BNB  Binance Coin    153432897.0000000000000000   \n",
       "4       cardano    5    ADA       Cardano  31948309440.7478000000000000   \n",
       "\n",
       "                      maxSupply                   marketCapUsd  \\\n",
       "0     21000000.0000000000000000  703983634048.0590125180240550   \n",
       "1                          None  310647572825.6073105543938815   \n",
       "2                          None   61210747790.9835624952484011   \n",
       "3    170532785.0000000000000000   54806115500.0439920017701897   \n",
       "4  45000000000.0000000000000000   52214422411.4589782761127197   \n",
       "\n",
       "                  volumeUsd24Hr                priceUsd    changePercent24Hr  \\\n",
       "0  21161394698.9909645443649339  37605.8126929544359474   0.1611428393802610   \n",
       "1  19085930579.1264883870871919   2676.7772084386520764   0.0625246883520432   \n",
       "2  57643131488.1030429639856367      1.0013879618753055  -0.0845930071220385   \n",
       "3   1930963058.2596534231657880    357.1992484769677001   2.3055912564060647   \n",
       "4   3179396954.9637378623765882      1.6343406998826420  -1.7878059642577821   \n",
       "\n",
       "                 vwap24Hr                                           explorer  \n",
       "0  38937.9855957004252893                           https://blockchain.info/  \n",
       "1   2767.7114456867633287                              https://etherscan.io/  \n",
       "2      1.0012201375607313             https://www.omniexplorer.info/asset/31  \n",
       "3    369.9188492622870784  https://etherscan.io/token/0xB8c77482e45F1F44d...  \n",
       "4      1.6912814496039256                       https://cardanoexplorer.com/  "
      ],
      "text/html": "<div>\n<style scoped>\n    .dataframe tbody tr th:only-of-type {\n        vertical-align: middle;\n    }\n\n    .dataframe tbody tr th {\n        vertical-align: top;\n    }\n\n    .dataframe thead th {\n        text-align: right;\n    }\n</style>\n<table border=\"1\" class=\"dataframe\">\n  <thead>\n    <tr style=\"text-align: right;\">\n      <th></th>\n      <th>id</th>\n      <th>rank</th>\n      <th>symbol</th>\n      <th>name</th>\n      <th>supply</th>\n      <th>maxSupply</th>\n      <th>marketCapUsd</th>\n      <th>volumeUsd24Hr</th>\n      <th>priceUsd</th>\n      <th>changePercent24Hr</th>\n      <th>vwap24Hr</th>\n      <th>explorer</th>\n    </tr>\n  </thead>\n  <tbody>\n    <tr>\n      <th>0</th>\n      <td>bitcoin</td>\n      <td>1</td>\n      <td>BTC</td>\n      <td>Bitcoin</td>\n      <td>18720075.0000000000000000</td>\n      <td>21000000.0000000000000000</td>\n      <td>703983634048.0590125180240550</td>\n      <td>21161394698.9909645443649339</td>\n      <td>37605.8126929544359474</td>\n      <td>0.1611428393802610</td>\n      <td>38937.9855957004252893</td>\n      <td>https://blockchain.info/</td>\n    </tr>\n    <tr>\n      <th>1</th>\n      <td>ethereum</td>\n      <td>2</td>\n      <td>ETH</td>\n      <td>Ethereum</td>\n      <td>116052830.9365000000000000</td>\n      <td>None</td>\n      <td>310647572825.6073105543938815</td>\n      <td>19085930579.1264883870871919</td>\n      <td>2676.7772084386520764</td>\n      <td>0.0625246883520432</td>\n      <td>2767.7114456867633287</td>\n      <td>https://etherscan.io/</td>\n    </tr>\n    <tr>\n      <th>2</th>\n      <td>tether</td>\n      <td>3</td>\n      <td>USDT</td>\n      <td>Tether</td>\n      <td>61125907361.9716900000000000</td>\n      <td>None</td>\n      <td>61210747790.9835624952484011</td>\n      <td>57643131488.1030429639856367</td>\n      <td>1.0013879618753055</td>\n      <td>-0.0845930071220385</td>\n      <td>1.0012201375607313</td>\n      <td>https://www.omniexplorer.info/asset/31</td>\n    </tr>\n    <tr>\n      <th>3</th>\n      <td>binance-coin</td>\n      <td>4</td>\n      <td>BNB</td>\n      <td>Binance Coin</td>\n      <td>153432897.0000000000000000</td>\n      <td>170532785.0000000000000000</td>\n      <td>54806115500.0439920017701897</td>\n      <td>1930963058.2596534231657880</td>\n      <td>357.1992484769677001</td>\n      <td>2.3055912564060647</td>\n      <td>369.9188492622870784</td>\n      <td>https://etherscan.io/token/0xB8c77482e45F1F44d...</td>\n    </tr>\n    <tr>\n      <th>4</th>\n      <td>cardano</td>\n      <td>5</td>\n      <td>ADA</td>\n      <td>Cardano</td>\n      <td>31948309440.7478000000000000</td>\n      <td>45000000000.0000000000000000</td>\n      <td>52214422411.4589782761127197</td>\n      <td>3179396954.9637378623765882</td>\n      <td>1.6343406998826420</td>\n      <td>-1.7878059642577821</td>\n      <td>1.6912814496039256</td>\n      <td>https://cardanoexplorer.com/</td>\n    </tr>\n  </tbody>\n</table>\n</div>"
     },
     "metadata": {},
     "execution_count": 93
    }
   ],
   "source": [
    "coins_df.head()"
   ]
  },
  {
   "cell_type": "code",
   "execution_count": 94,
   "metadata": {},
   "outputs": [],
   "source": [
    "currentdate = datetime.datetime.utcnow()\n",
    "current_year = currentdate.year\n",
    "endDate = datetime.datetime.timestamp(currentdate)*1000\n",
    "start_datetime = datetime.datetime(current_year, 1, 1, 0, 0, 0, 1)\n",
    "startDate = datetime.datetime.timestamp(start_datetime)*1000"
   ]
  },
  {
   "cell_type": "code",
   "execution_count": 101,
   "metadata": {
    "tags": []
   },
   "outputs": [
    {
     "output_type": "error",
     "ename": "JSONDecodeError",
     "evalue": "Expecting value: line 1 column 1 (char 0)",
     "traceback": [
      "\u001b[0;31m---------------------------------------------------------------------------\u001b[0m",
      "\u001b[0;31mJSONDecodeError\u001b[0m                           Traceback (most recent call last)",
      "\u001b[0;32m<ipython-input-101-be98631c1ad5>\u001b[0m in \u001b[0;36m<module>\u001b[0;34m\u001b[0m\n\u001b[1;32m      4\u001b[0m     \u001b[0murl\u001b[0m \u001b[0;34m=\u001b[0m \u001b[0;34m\"https://api.coincap.io/v2/assets/\"\u001b[0m \u001b[0;34m+\u001b[0m \u001b[0mcoinId\u001b[0m \u001b[0;34m+\u001b[0m \u001b[0;34m\"/history?interval=d1&start=\"\u001b[0m \u001b[0;34m+\u001b[0m \u001b[0mstr\u001b[0m\u001b[0;34m(\u001b[0m\u001b[0mstartDate\u001b[0m\u001b[0;34m)\u001b[0m \u001b[0;34m+\u001b[0m \u001b[0;34m\"&end=\"\u001b[0m \u001b[0;34m+\u001b[0m \u001b[0mstr\u001b[0m\u001b[0;34m(\u001b[0m\u001b[0mendDate\u001b[0m\u001b[0;34m)\u001b[0m\u001b[0;34m\u001b[0m\u001b[0;34m\u001b[0m\u001b[0m\n\u001b[1;32m      5\u001b[0m     \u001b[0mendpoint\u001b[0m \u001b[0;34m=\u001b[0m \u001b[0mrequests\u001b[0m\u001b[0;34m.\u001b[0m\u001b[0mget\u001b[0m\u001b[0;34m(\u001b[0m\u001b[0murl\u001b[0m\u001b[0;34m)\u001b[0m\u001b[0;34m\u001b[0m\u001b[0;34m\u001b[0m\u001b[0m\n\u001b[0;32m----> 6\u001b[0;31m     \u001b[0mdata\u001b[0m \u001b[0;34m=\u001b[0m \u001b[0mjson\u001b[0m\u001b[0;34m.\u001b[0m\u001b[0mloads\u001b[0m\u001b[0;34m(\u001b[0m\u001b[0mendpoint\u001b[0m\u001b[0;34m.\u001b[0m\u001b[0mtext\u001b[0m\u001b[0;34m)\u001b[0m\u001b[0;34m\u001b[0m\u001b[0;34m\u001b[0m\u001b[0m\n\u001b[0m\u001b[1;32m      7\u001b[0m     \u001b[0mresult\u001b[0m \u001b[0;34m=\u001b[0m \u001b[0;34m{\u001b[0m\u001b[0;34m'id'\u001b[0m\u001b[0;34m:\u001b[0m \u001b[0mcoinId\u001b[0m\u001b[0;34m,\u001b[0m \u001b[0;34m'history'\u001b[0m\u001b[0;34m:\u001b[0m \u001b[0mdata\u001b[0m\u001b[0;34m[\u001b[0m\u001b[0;34m'data'\u001b[0m\u001b[0;34m]\u001b[0m\u001b[0;34m}\u001b[0m\u001b[0;34m\u001b[0m\u001b[0;34m\u001b[0m\u001b[0m\n\u001b[1;32m      8\u001b[0m     \u001b[0massets\u001b[0m\u001b[0;34m.\u001b[0m\u001b[0mappend\u001b[0m\u001b[0;34m(\u001b[0m\u001b[0mresult\u001b[0m\u001b[0;34m)\u001b[0m\u001b[0;34m\u001b[0m\u001b[0;34m\u001b[0m\u001b[0m\n",
      "\u001b[0;32m~/opt/anaconda3/lib/python3.7/json/__init__.py\u001b[0m in \u001b[0;36mloads\u001b[0;34m(s, encoding, cls, object_hook, parse_float, parse_int, parse_constant, object_pairs_hook, **kw)\u001b[0m\n\u001b[1;32m    346\u001b[0m             \u001b[0mparse_int\u001b[0m \u001b[0;32mis\u001b[0m \u001b[0;32mNone\u001b[0m \u001b[0;32mand\u001b[0m \u001b[0mparse_float\u001b[0m \u001b[0;32mis\u001b[0m \u001b[0;32mNone\u001b[0m \u001b[0;32mand\u001b[0m\u001b[0;34m\u001b[0m\u001b[0;34m\u001b[0m\u001b[0m\n\u001b[1;32m    347\u001b[0m             parse_constant is None and object_pairs_hook is None and not kw):\n\u001b[0;32m--> 348\u001b[0;31m         \u001b[0;32mreturn\u001b[0m \u001b[0m_default_decoder\u001b[0m\u001b[0;34m.\u001b[0m\u001b[0mdecode\u001b[0m\u001b[0;34m(\u001b[0m\u001b[0ms\u001b[0m\u001b[0;34m)\u001b[0m\u001b[0;34m\u001b[0m\u001b[0;34m\u001b[0m\u001b[0m\n\u001b[0m\u001b[1;32m    349\u001b[0m     \u001b[0;32mif\u001b[0m \u001b[0mcls\u001b[0m \u001b[0;32mis\u001b[0m \u001b[0;32mNone\u001b[0m\u001b[0;34m:\u001b[0m\u001b[0;34m\u001b[0m\u001b[0;34m\u001b[0m\u001b[0m\n\u001b[1;32m    350\u001b[0m         \u001b[0mcls\u001b[0m \u001b[0;34m=\u001b[0m \u001b[0mJSONDecoder\u001b[0m\u001b[0;34m\u001b[0m\u001b[0;34m\u001b[0m\u001b[0m\n",
      "\u001b[0;32m~/opt/anaconda3/lib/python3.7/json/decoder.py\u001b[0m in \u001b[0;36mdecode\u001b[0;34m(self, s, _w)\u001b[0m\n\u001b[1;32m    335\u001b[0m \u001b[0;34m\u001b[0m\u001b[0m\n\u001b[1;32m    336\u001b[0m         \"\"\"\n\u001b[0;32m--> 337\u001b[0;31m         \u001b[0mobj\u001b[0m\u001b[0;34m,\u001b[0m \u001b[0mend\u001b[0m \u001b[0;34m=\u001b[0m \u001b[0mself\u001b[0m\u001b[0;34m.\u001b[0m\u001b[0mraw_decode\u001b[0m\u001b[0;34m(\u001b[0m\u001b[0ms\u001b[0m\u001b[0;34m,\u001b[0m \u001b[0midx\u001b[0m\u001b[0;34m=\u001b[0m\u001b[0m_w\u001b[0m\u001b[0;34m(\u001b[0m\u001b[0ms\u001b[0m\u001b[0;34m,\u001b[0m \u001b[0;36m0\u001b[0m\u001b[0;34m)\u001b[0m\u001b[0;34m.\u001b[0m\u001b[0mend\u001b[0m\u001b[0;34m(\u001b[0m\u001b[0;34m)\u001b[0m\u001b[0;34m)\u001b[0m\u001b[0;34m\u001b[0m\u001b[0;34m\u001b[0m\u001b[0m\n\u001b[0m\u001b[1;32m    338\u001b[0m         \u001b[0mend\u001b[0m \u001b[0;34m=\u001b[0m \u001b[0m_w\u001b[0m\u001b[0;34m(\u001b[0m\u001b[0ms\u001b[0m\u001b[0;34m,\u001b[0m \u001b[0mend\u001b[0m\u001b[0;34m)\u001b[0m\u001b[0;34m.\u001b[0m\u001b[0mend\u001b[0m\u001b[0;34m(\u001b[0m\u001b[0;34m)\u001b[0m\u001b[0;34m\u001b[0m\u001b[0;34m\u001b[0m\u001b[0m\n\u001b[1;32m    339\u001b[0m         \u001b[0;32mif\u001b[0m \u001b[0mend\u001b[0m \u001b[0;34m!=\u001b[0m \u001b[0mlen\u001b[0m\u001b[0;34m(\u001b[0m\u001b[0ms\u001b[0m\u001b[0;34m)\u001b[0m\u001b[0;34m:\u001b[0m\u001b[0;34m\u001b[0m\u001b[0;34m\u001b[0m\u001b[0m\n",
      "\u001b[0;32m~/opt/anaconda3/lib/python3.7/json/decoder.py\u001b[0m in \u001b[0;36mraw_decode\u001b[0;34m(self, s, idx)\u001b[0m\n\u001b[1;32m    353\u001b[0m             \u001b[0mobj\u001b[0m\u001b[0;34m,\u001b[0m \u001b[0mend\u001b[0m \u001b[0;34m=\u001b[0m \u001b[0mself\u001b[0m\u001b[0;34m.\u001b[0m\u001b[0mscan_once\u001b[0m\u001b[0;34m(\u001b[0m\u001b[0ms\u001b[0m\u001b[0;34m,\u001b[0m \u001b[0midx\u001b[0m\u001b[0;34m)\u001b[0m\u001b[0;34m\u001b[0m\u001b[0;34m\u001b[0m\u001b[0m\n\u001b[1;32m    354\u001b[0m         \u001b[0;32mexcept\u001b[0m \u001b[0mStopIteration\u001b[0m \u001b[0;32mas\u001b[0m \u001b[0merr\u001b[0m\u001b[0;34m:\u001b[0m\u001b[0;34m\u001b[0m\u001b[0;34m\u001b[0m\u001b[0m\n\u001b[0;32m--> 355\u001b[0;31m             \u001b[0;32mraise\u001b[0m \u001b[0mJSONDecodeError\u001b[0m\u001b[0;34m(\u001b[0m\u001b[0;34m\"Expecting value\"\u001b[0m\u001b[0;34m,\u001b[0m \u001b[0ms\u001b[0m\u001b[0;34m,\u001b[0m \u001b[0merr\u001b[0m\u001b[0;34m.\u001b[0m\u001b[0mvalue\u001b[0m\u001b[0;34m)\u001b[0m \u001b[0;32mfrom\u001b[0m \u001b[0;32mNone\u001b[0m\u001b[0;34m\u001b[0m\u001b[0;34m\u001b[0m\u001b[0m\n\u001b[0m\u001b[1;32m    356\u001b[0m         \u001b[0;32mreturn\u001b[0m \u001b[0mobj\u001b[0m\u001b[0;34m,\u001b[0m \u001b[0mend\u001b[0m\u001b[0;34m\u001b[0m\u001b[0;34m\u001b[0m\u001b[0m\n",
      "\u001b[0;31mJSONDecodeError\u001b[0m: Expecting value: line 1 column 1 (char 0)"
     ]
    }
   ],
   "source": [
    "assets = list()\n",
    "\n",
    "for coinId in coins_df.id:\n",
    "    url = \"https://api.coincap.io/v2/assets/\" + coinId + \"/history?interval=d1&start=\" + str(startDate) + \"&end=\" + str(endDate)\n",
    "    endpoint = requests.get(url)\n",
    "    data = json.loads(endpoint.text)\n",
    "    result = {'id': coinId, \n",
    "              'history': data['data']}\n",
    "    assets.append(result)"
   ]
  },
  {
   "cell_type": "code",
   "execution_count": null,
   "metadata": {},
   "outputs": [],
   "source": [
    "df_assets = pd.DataFrame(assets)"
   ]
  },
  {
   "cell_type": "code",
   "execution_count": null,
   "metadata": {},
   "outputs": [],
   "source": [
    "ratesPerDay = list()\n",
    "\n",
    "for asset in assets:\n",
    "    coinHistory = asset['history']\n",
    "    coinId = asset['id']\n",
    "\n",
    "    for day in coinHistory:  \n",
    "        a = {'date': day['date'], 'coin':coinId, 'rateUsd': day['priceUsd']}\n",
    "        ratesPerDay.append(a)"
   ]
  },
  {
   "cell_type": "code",
   "execution_count": null,
   "metadata": {},
   "outputs": [],
   "source": [
    "df_rates = pd.DataFrame(ratesPerDay)"
   ]
  },
  {
   "cell_type": "code",
   "execution_count": null,
   "metadata": {},
   "outputs": [],
   "source": [
    "euro = requests.get('https://api.coincap.io/v2/rates/euro')\n",
    "euro = json.loads(euro.text)\n",
    "df_euro = pd.DataFrame([euro['data']])\n",
    "df_euro"
   ]
  },
  {
   "cell_type": "code",
   "execution_count": null,
   "metadata": {},
   "outputs": [],
   "source": [
    "euro_list = list()\n",
    "for row in df_rates:\n",
    "    df_rates['rate_usd_to_eur'] = df_euro['rateUsd']"
   ]
  },
  {
   "cell_type": "code",
   "execution_count": null,
   "metadata": {},
   "outputs": [],
   "source": [
    "df_rates.to_csv(\"ninetynine_rates.csv\")"
   ]
  }
 ]
}