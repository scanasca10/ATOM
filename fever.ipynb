{
 "cells": [
  {
   "cell_type": "markdown",
   "metadata": {},
   "source": [
    "# FEVER SCRIPT"
   ]
  },
  {
   "cell_type": "code",
   "execution_count": 1,
   "metadata": {},
   "outputs": [],
   "source": [
    "import pandas as pd\n",
    "import numpy as np"
   ]
  },
  {
   "cell_type": "markdown",
   "metadata": {},
   "source": [
    "## plan_sales "
   ]
  },
  {
   "cell_type": "code",
   "execution_count": 3,
   "metadata": {},
   "outputs": [],
   "source": [
    "plan_sales = pd.read_csv(r'/Users/santiagocanas/Downloads/FEVER/Source/plan_sales.csv', sep =';')"
   ]
  },
  {
   "cell_type": "markdown",
   "metadata": {},
   "source": [
    "Adding country_id"
   ]
  },
  {
   "cell_type": "code",
   "execution_count": 3,
   "metadata": {},
   "outputs": [],
   "source": [
    "plan_sales.loc[(plan_sales['city_of_plan'] == 'Barcelona') \n",
    "               |(plan_sales['city_of_plan'] == 'Madrid') \n",
    "               |(plan_sales['city_of_plan'] == 'Valencia')\n",
    "               |(plan_sales['city_of_plan'] == 'Malaga') \n",
    "               | (plan_sales['city_of_plan'] == 'Seville'), 'country_id'] = int(1)"
   ]
  },
  {
   "cell_type": "code",
   "execution_count": 4,
   "metadata": {},
   "outputs": [],
   "source": [
    "plan_sales.loc[(plan_sales['city_of_plan'] == 'New York') \n",
    "               |(plan_sales['city_of_plan'] == 'Los Angeles'), 'country_id'] = int(2)"
   ]
  },
  {
   "cell_type": "code",
   "execution_count": 5,
   "metadata": {},
   "outputs": [],
   "source": [
    "plan_sales.loc[(plan_sales['city_of_plan'] == 'Paris'), 'country_id'] = int(3)"
   ]
  },
  {
   "cell_type": "code",
   "execution_count": 6,
   "metadata": {},
   "outputs": [],
   "source": [
    "plan_sales.loc[(plan_sales['city_of_plan'] == 'Lisbon'), 'country_id'] = int(4)"
   ]
  },
  {
   "cell_type": "code",
   "execution_count": 7,
   "metadata": {},
   "outputs": [],
   "source": [
    "plan_sales.loc[(plan_sales['city_of_plan'] == 'Manchester') \n",
    "               |(plan_sales['city_of_plan'] == 'London'), 'country_id'] = int(5)"
   ]
  },
  {
   "cell_type": "code",
   "execution_count": 8,
   "metadata": {},
   "outputs": [],
   "source": [
    "plan_sales = plan_sales.drop(columns = ['city_of_plan'])"
   ]
  },
  {
   "cell_type": "code",
   "execution_count": 9,
   "metadata": {},
   "outputs": [],
   "source": [
    "plan_sales['sold_date'] = pd.to_datetime(plan_sales['sold_date'], format=\"%Y-%m-%d\")"
   ]
  },
  {
   "cell_type": "markdown",
   "metadata": {},
   "source": [
    "Adding date_id"
   ]
  },
  {
   "cell_type": "code",
   "execution_count": 10,
   "metadata": {},
   "outputs": [],
   "source": [
    "plan_sales.loc[(plan_sales['sold_date'] >= '2019-01-01') \n",
    "               & (plan_sales['sold_date'] < '2019-01-02'), 'date_id'] = int(1)"
   ]
  },
  {
   "cell_type": "code",
   "execution_count": 11,
   "metadata": {},
   "outputs": [],
   "source": [
    "plan_sales.loc[(plan_sales['sold_date'] >= '2019-01-02') \n",
    "               & (plan_sales['sold_date'] < '2019-01-03'), 'date_id'] = int(2)"
   ]
  },
  {
   "cell_type": "code",
   "execution_count": 12,
   "metadata": {},
   "outputs": [],
   "source": [
    "plan_sales.loc[(plan_sales['sold_date'] >= '2019-01-03') \n",
    "               & (plan_sales['sold_date'] < '2019-01-04'), 'date_id'] = int(3)"
   ]
  },
  {
   "cell_type": "code",
   "execution_count": 13,
   "metadata": {},
   "outputs": [],
   "source": [
    "plan_sales.loc[(plan_sales['sold_date'] >= '2019-01-04') \n",
    "               & (plan_sales['sold_date'] < '2019-01-05'), 'date_id'] = int(4)"
   ]
  },
  {
   "cell_type": "code",
   "execution_count": 14,
   "metadata": {},
   "outputs": [],
   "source": [
    "plan_sales.loc[(plan_sales['sold_date'] >= '2019-01-05') \n",
    "               & (plan_sales['sold_date'] < '2019-01-06'), 'date_id'] = int(5)"
   ]
  },
  {
   "cell_type": "code",
   "execution_count": 15,
   "metadata": {},
   "outputs": [],
   "source": [
    "plan_sales.loc[(plan_sales['sold_date'] >= '2019-01-06') \n",
    "               & (plan_sales['sold_date'] < '2019-01-07'), 'date_id'] = int(6)"
   ]
  },
  {
   "cell_type": "code",
   "execution_count": 16,
   "metadata": {},
   "outputs": [],
   "source": [
    "plan_sales.loc[(plan_sales['sold_date'] >= '2019-01-07') \n",
    "               & (plan_sales['sold_date'] < '2019-01-08'), 'date_id'] = int(7)"
   ]
  },
  {
   "cell_type": "code",
   "execution_count": 17,
   "metadata": {},
   "outputs": [],
   "source": [
    "plan_sales.loc[(plan_sales['sold_date'] >= '2019-01-08') \n",
    "               & (plan_sales['sold_date'] < '2019-01-09'), 'date_id'] = int(8)"
   ]
  },
  {
   "cell_type": "code",
   "execution_count": 18,
   "metadata": {},
   "outputs": [],
   "source": [
    "plan_sales.loc[(plan_sales['sold_date'] >= '2019-01-09') \n",
    "               & (plan_sales['sold_date'] < '2019-01-10'), 'date_id'] = int(9)"
   ]
  },
  {
   "cell_type": "code",
   "execution_count": 19,
   "metadata": {},
   "outputs": [],
   "source": [
    "plan_sales = plan_sales.drop(columns = 'sold_date')"
   ]
  },
  {
   "cell_type": "markdown",
   "metadata": {},
   "source": [
    "Changing parameter names"
   ]
  },
  {
   "cell_type": "code",
   "execution_count": 20,
   "metadata": {},
   "outputs": [],
   "source": [
    "plan_sales.columns = ['plan_id','user_id','number_tickets_sold','generated_revenue_usd','country_id','date_id']\n"
   ]
  },
  {
   "cell_type": "markdown",
   "metadata": {},
   "source": [
    "Ordering parameters"
   ]
  },
  {
   "cell_type": "code",
   "execution_count": 21,
   "metadata": {},
   "outputs": [],
   "source": [
    "plan_sales = plan_sales[['plan_id','user_id','date_id','country_id','number_tickets_sold','generated_revenue_usd']]\n"
   ]
  },
  {
   "cell_type": "markdown",
   "metadata": {},
   "source": [
    "Data Engineering"
   ]
  },
  {
   "cell_type": "code",
   "execution_count": 23,
   "metadata": {},
   "outputs": [],
   "source": [
    "list = []\n",
    "for s in plan_sales.generated_revenue_usd.astype(str):\n",
    "    list.append(int(str(s).replace('.','')))"
   ]
  },
  {
   "cell_type": "code",
   "execution_count": 24,
   "metadata": {},
   "outputs": [],
   "source": [
    "plan_sales['generated_revenue_usd'] = list"
   ]
  },
  {
   "cell_type": "code",
   "execution_count": 25,
   "metadata": {},
   "outputs": [],
   "source": [
    "plan_sales = plan_sales.dropna()"
   ]
  },
  {
   "cell_type": "code",
   "execution_count": 26,
   "metadata": {},
   "outputs": [],
   "source": [
    "plan_sales.date_id = plan_sales.date_id.astype(int)\n",
    "plan_sales.country_id = plan_sales.country_id.astype(int)"
   ]
  },
  {
   "cell_type": "code",
   "execution_count": 27,
   "metadata": {},
   "outputs": [],
   "source": [
    "plan_sales = plan_sales.set_index('plan_id')"
   ]
  },
  {
   "cell_type": "markdown",
   "metadata": {},
   "source": [
    "## view_per_plan"
   ]
  },
  {
   "cell_type": "code",
   "execution_count": 28,
   "metadata": {},
   "outputs": [],
   "source": [
    "view_per_plan = pd.read_csv(r'/Users/santiagocanas/Desktop/FEVER/Source/end_app_session_table.csv', sep =';')"
   ]
  },
  {
   "cell_type": "code",
   "execution_count": 29,
   "metadata": {},
   "outputs": [],
   "source": [
    "view_per_plan['date'] = pd.to_datetime(view_per_plan['date'], format=\"%d/%m/%Y\")\n"
   ]
  },
  {
   "cell_type": "markdown",
   "metadata": {},
   "source": [
    "Adding date_id to the data frame"
   ]
  },
  {
   "cell_type": "code",
   "execution_count": 30,
   "metadata": {},
   "outputs": [],
   "source": [
    "view_per_plan.loc[(view_per_plan['date'] >= '2019-01-01') & \n",
    "                  (view_per_plan['date'] < '2019-01-02'), 'date_id'] = int(1)\n"
   ]
  },
  {
   "cell_type": "code",
   "execution_count": 31,
   "metadata": {},
   "outputs": [],
   "source": [
    "view_per_plan.loc[(view_per_plan['date'] >= '2019-01-02') \n",
    "                  & (view_per_plan['date'] < '2019-01-03'), 'date_id'] = int(2)"
   ]
  },
  {
   "cell_type": "code",
   "execution_count": 32,
   "metadata": {},
   "outputs": [],
   "source": [
    "view_per_plan.loc[(view_per_plan['date'] >= '2019-01-03') \n",
    "                  & (view_per_plan['date'] < '2019-01-04'), 'date_id'] = int(3)"
   ]
  },
  {
   "cell_type": "code",
   "execution_count": 33,
   "metadata": {},
   "outputs": [],
   "source": [
    "view_per_plan.loc[(view_per_plan['date'] >= '2019-01-04') \n",
    "                  & (view_per_plan['date'] < '2019-01-05'), 'date_id'] = int(4)"
   ]
  },
  {
   "cell_type": "code",
   "execution_count": 34,
   "metadata": {},
   "outputs": [],
   "source": [
    "view_per_plan.loc[(view_per_plan['date'] >= '2019-01-05') \n",
    "                  & (view_per_plan['date'] < '2019-01-06'), 'date_id'] = int(5)"
   ]
  },
  {
   "cell_type": "code",
   "execution_count": 35,
   "metadata": {},
   "outputs": [],
   "source": [
    "view_per_plan.loc[(view_per_plan['date'] >= '2019-01-06') \n",
    "                  & (view_per_plan['date'] < '2019-01-07'), 'date_id'] = int(6)"
   ]
  },
  {
   "cell_type": "code",
   "execution_count": 36,
   "metadata": {},
   "outputs": [],
   "source": [
    "view_per_plan.loc[(view_per_plan['date'] >= '2019-01-07') \n",
    "                  & (view_per_plan['date'] < '2019-01-08'), 'date_id'] = int(7)"
   ]
  },
  {
   "cell_type": "code",
   "execution_count": 37,
   "metadata": {},
   "outputs": [],
   "source": [
    "view_per_plan.loc[(view_per_plan['date'] >= '2019-01-08') \n",
    "                  & (view_per_plan['date'] < '2019-01-09'), 'date_id'] = int(8)"
   ]
  },
  {
   "cell_type": "code",
   "execution_count": 38,
   "metadata": {},
   "outputs": [],
   "source": [
    "view_per_plan.loc[(view_per_plan['date'] >= '2019-01-09') \n",
    "                  & (view_per_plan['date'] < '2019-01-10'), 'date_id'] = int(9)"
   ]
  },
  {
   "cell_type": "code",
   "execution_count": 39,
   "metadata": {},
   "outputs": [],
   "source": [
    "view_per_plan = view_per_plan.drop(columns =['date'])"
   ]
  },
  {
   "cell_type": "markdown",
   "metadata": {},
   "source": [
    "Ordering parameters"
   ]
  },
  {
   "cell_type": "code",
   "execution_count": 40,
   "metadata": {},
   "outputs": [],
   "source": [
    "view_per_plan = view_per_plan[['plan_id','date_id','views']]"
   ]
  },
  {
   "cell_type": "markdown",
   "metadata": {},
   "source": [
    "Data Engineering"
   ]
  },
  {
   "cell_type": "code",
   "execution_count": 41,
   "metadata": {},
   "outputs": [],
   "source": [
    "view_per_plan = view_per_plan.dropna()"
   ]
  },
  {
   "cell_type": "code",
   "execution_count": 42,
   "metadata": {},
   "outputs": [],
   "source": [
    "view_per_plan.date_id = view_per_plan.date_id.astype(int)\n",
    "view_per_plan.plan_id = view_per_plan.plan_id.astype(int)"
   ]
  },
  {
   "cell_type": "code",
   "execution_count": 43,
   "metadata": {},
   "outputs": [],
   "source": [
    "view_per_plan = view_per_plan.set_index('plan_id')"
   ]
  },
  {
   "cell_type": "markdown",
   "metadata": {},
   "source": [
    "## update_bookmark"
   ]
  },
  {
   "cell_type": "code",
   "execution_count": 44,
   "metadata": {},
   "outputs": [],
   "source": [
    "update_bookmark = pd.read_csv(r'/Users/santiagocanas/Desktop/FEVER/Source/update_bookmark.csv', sep =';')"
   ]
  },
  {
   "cell_type": "code",
   "execution_count": 45,
   "metadata": {},
   "outputs": [],
   "source": [
    "update_bookmark['dt_datetime'] = pd.to_datetime(update_bookmark['dt_datetime'], format='%d/%m/%Y %H:%M')\n"
   ]
  },
  {
   "cell_type": "markdown",
   "metadata": {},
   "source": [
    "Adding date_id to the data frame"
   ]
  },
  {
   "cell_type": "code",
   "execution_count": 46,
   "metadata": {},
   "outputs": [],
   "source": [
    "update_bookmark.loc[(update_bookmark['dt_datetime'] >= '2019-01-01') \n",
    "                    & (update_bookmark['dt_datetime'] < '2019-01-02'), 'date_id'] = int(1)"
   ]
  },
  {
   "cell_type": "code",
   "execution_count": 47,
   "metadata": {},
   "outputs": [],
   "source": [
    "update_bookmark.loc[(update_bookmark['dt_datetime'] >= '2019-01-02') \n",
    "                    & (update_bookmark['dt_datetime'] < '2019-01-03'), 'date_id'] = int(2)"
   ]
  },
  {
   "cell_type": "code",
   "execution_count": 48,
   "metadata": {},
   "outputs": [],
   "source": [
    "update_bookmark.loc[(update_bookmark['dt_datetime'] >= '2019-01-03') \n",
    "                    & (update_bookmark['dt_datetime'] < '2019-01-04'), 'date_id'] = int(3)"
   ]
  },
  {
   "cell_type": "code",
   "execution_count": 49,
   "metadata": {},
   "outputs": [],
   "source": [
    "update_bookmark.loc[(update_bookmark['dt_datetime'] >= '2019-01-04') \n",
    "                    & (update_bookmark['dt_datetime'] < '2019-01-05'), 'date_id'] = int(4)"
   ]
  },
  {
   "cell_type": "code",
   "execution_count": 50,
   "metadata": {},
   "outputs": [],
   "source": [
    "update_bookmark.loc[(update_bookmark['dt_datetime'] >= '2019-01-05') \n",
    "                    & (update_bookmark['dt_datetime'] < '2019-01-06'), 'date_id'] = int(5)"
   ]
  },
  {
   "cell_type": "code",
   "execution_count": 51,
   "metadata": {},
   "outputs": [],
   "source": [
    "update_bookmark.loc[(update_bookmark['dt_datetime'] >= '2019-01-06') \n",
    "                    & (update_bookmark['dt_datetime'] < '2019-01-07'), 'date_id'] = int(6)"
   ]
  },
  {
   "cell_type": "code",
   "execution_count": 52,
   "metadata": {},
   "outputs": [],
   "source": [
    "update_bookmark.loc[(update_bookmark['dt_datetime'] >= '2019-01-07') \n",
    "                    & (update_bookmark['dt_datetime'] < '2019-01-08'), 'date_id'] = int(7)"
   ]
  },
  {
   "cell_type": "code",
   "execution_count": 53,
   "metadata": {},
   "outputs": [],
   "source": [
    "update_bookmark.loc[(update_bookmark['dt_datetime'] >= '2019-01-08') \n",
    "                    & (update_bookmark['dt_datetime'] < '2019-01-09'), 'date_id'] = int(8)"
   ]
  },
  {
   "cell_type": "code",
   "execution_count": 54,
   "metadata": {},
   "outputs": [],
   "source": [
    "update_bookmark.loc[(update_bookmark['dt_datetime'] >= '2019-01-09') \n",
    "                    & (update_bookmark['dt_datetime'] < '2019-01-10'), 'date_id'] = int(9)"
   ]
  },
  {
   "cell_type": "code",
   "execution_count": 55,
   "metadata": {},
   "outputs": [],
   "source": [
    "update_bookmark = update_bookmark.drop(columns = ['dt_datetime'])"
   ]
  },
  {
   "cell_type": "markdown",
   "metadata": {},
   "source": [
    "Changing names"
   ]
  },
  {
   "cell_type": "code",
   "execution_count": 56,
   "metadata": {},
   "outputs": [],
   "source": [
    "update_bookmark.columns = ['user_id','plan_id','action','date_id']"
   ]
  },
  {
   "cell_type": "markdown",
   "metadata": {},
   "source": [
    "Ordering parameters"
   ]
  },
  {
   "cell_type": "code",
   "execution_count": 57,
   "metadata": {},
   "outputs": [],
   "source": [
    "update_bookmark = update_bookmark[['plan_id','user_id','date_id','action']]"
   ]
  },
  {
   "cell_type": "markdown",
   "metadata": {},
   "source": [
    "Data Enginnering"
   ]
  },
  {
   "cell_type": "code",
   "execution_count": 58,
   "metadata": {},
   "outputs": [],
   "source": [
    "update_bookmark = update_bookmark.dropna()"
   ]
  },
  {
   "cell_type": "code",
   "execution_count": 59,
   "metadata": {},
   "outputs": [],
   "source": [
    "update_bookmark.date_id = update_bookmark.date_id.astype(int)"
   ]
  },
  {
   "cell_type": "code",
   "execution_count": 60,
   "metadata": {},
   "outputs": [],
   "source": [
    "update_bookmark = update_bookmark.set_index('plan_id')"
   ]
  },
  {
   "cell_type": "markdown",
   "metadata": {},
   "source": [
    "Writing CSV's"
   ]
  },
  {
   "cell_type": "code",
   "execution_count": 61,
   "metadata": {},
   "outputs": [],
   "source": [
    "plan_sales.to_csv(r\"/Users/santiagocanas/Desktop/FEVER/plan_sales_table.csv\")\n",
    "view_per_plan.to_csv(r\"/Users/santiagocanas/Desktop/FEVER/view_per_plan_table.csv\")\n",
    "update_bookmark.to_csv(r\"/Users/santiagocanas/Desktop/FEVER/update_bookmark_table.csv\")\n"
   ]
  },
  {
   "cell_type": "code",
   "execution_count": null,
   "metadata": {},
   "outputs": [],
   "source": []
  }
 ],
 "metadata": {
  "kernelspec": {
   "display_name": "Python 3",
   "language": "python",
   "name": "python3"
  },
  "language_info": {
   "codemirror_mode": {
    "name": "ipython",
    "version": 3
   },
   "file_extension": ".py",
   "mimetype": "text/x-python",
   "name": "python",
   "nbconvert_exporter": "python",
   "pygments_lexer": "ipython3",
   "version": "3.7.6"
  }
 },
 "nbformat": 4,
 "nbformat_minor": 2
}
